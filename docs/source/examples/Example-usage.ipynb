{
 "metadata": {
  "language_info": {
   "codemirror_mode": {
    "name": "ipython",
    "version": 3
   },
   "file_extension": ".py",
   "mimetype": "text/x-python",
   "name": "python",
   "nbconvert_exporter": "python",
   "pygments_lexer": "ipython3",
   "version": "3.6.10-final"
  },
  "orig_nbformat": 2,
  "kernelspec": {
   "name": "gabriel",
   "display_name": "GabrielRCNN"
  }
 },
 "nbformat": 4,
 "nbformat_minor": 2,
 "cells": [
  {
   "source": [
    "# Example usage"
   ],
   "cell_type": "markdown",
   "metadata": {}
  },
  {
   "source": [
    "Notebook showing example functions being used."
   ],
   "cell_type": "markdown",
   "metadata": {}
  }
 ]
}